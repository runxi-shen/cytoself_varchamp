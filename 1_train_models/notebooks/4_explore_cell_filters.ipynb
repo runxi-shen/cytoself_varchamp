{
 "cells": [
  {
   "cell_type": "markdown",
   "metadata": {},
   "source": [
    "# Explore single-cell filters and visualize cropped cells\n",
    "\n",
    "Examine filters prior to curve fitting."
   ]
  },
  {
   "cell_type": "code",
   "execution_count": 2,
   "metadata": {},
   "outputs": [],
   "source": [
    "# Imports\n",
    "import polars as pl\n",
    "import os\n",
    "\n",
    "# Paths\n",
    "VARCHAMP_CP_DIR = \"../../0_data_prep/inputs/varchamp_cellpainting_gallery\"\n",
    "ZARR_IMG_DIR = f\"../../0_data_prep/outputs/zarr_images\""
   ]
  },
  {
   "cell_type": "code",
   "execution_count": 4,
   "metadata": {},
   "outputs": [],
   "source": [
    "BATCH_ID = \"2024_01_23_Batch_7\"\n",
    "VARCHAMP_PROF_DIR = f\"/home/shenrunx/igvf/varchamp/2021_09_01_VarChAMP/8.2_updated_snakemake_pipeline/outputs/batch_profiles/{BATCH_ID}/profiles.parquet\"\n",
    "IMAGECSV_DIR = f\"{VARCHAMP_CP_DIR}/{BATCH_ID}\""
   ]
  },
  {
   "cell_type": "markdown",
   "metadata": {},
   "source": [
    "## Filter Cells"
   ]
  },
  {
   "cell_type": "code",
   "execution_count": 3,
   "metadata": {},
   "outputs": [
    {
     "data": {
      "text/plain": [
       "(1866461, 14)"
      ]
     },
     "execution_count": 3,
     "metadata": {},
     "output_type": "execute_result"
    }
   ],
   "source": [
    "# Get metadata\n",
    "profiles = pl.scan_parquet(prof_path).select(\n",
    "    ['Metadata_well_position', 'Metadata_plate_map_name', 'Metadata_ImageNumber', 'Metadata_ObjectNumber', 'Metadata_symbol', 'Metadata_gene_allele', 'Metadata_control_type', 'Metadata_Plate', \n",
    "    'Nuclei_AreaShape_Area', 'Cells_AreaShape_Area', 'Nuclei_AreaShape_Center_X', 'Nuclei_AreaShape_Center_Y', 'Cells_Intensity_MedianIntensity_GFP', 'Cells_Intensity_IntegratedIntensity_GFP']\n",
    ").collect()\n",
    "profiles.shape"
   ]
  },
  {
   "cell_type": "code",
   "execution_count": 4,
   "metadata": {},
   "outputs": [
    {
     "data": {
      "text/plain": [
       "(1256972, 16)"
      ]
     },
     "execution_count": 4,
     "metadata": {},
     "output_type": "execute_result"
    }
   ],
   "source": [
    "# Filter based on cell to nucleus area\n",
    "profiles = profiles.with_columns(\n",
    "                (pl.col(\"Nuclei_AreaShape_Area\")/pl.col(\"Cells_AreaShape_Area\")).alias(\"Nucleus_Cell_Area\"),\n",
    "                pl.concat_str(['Metadata_Plate', 'Metadata_well_position', 'Metadata_ImageNumber', 'Metadata_ObjectNumber'], separator=\"_\").alias(\"Metadata_CellID\")\n",
    "        ).filter((pl.col(\"Nucleus_Cell_Area\") > 0.15) & (pl.col(\"Nucleus_Cell_Area\") < 0.3))\n",
    "profiles.shape"
   ]
  },
  {
   "cell_type": "code",
   "execution_count": 5,
   "metadata": {},
   "outputs": [
    {
     "data": {
      "text/plain": [
       "(1122944, 16)"
      ]
     },
     "execution_count": 5,
     "metadata": {},
     "output_type": "execute_result"
    }
   ],
   "source": [
    "# Filter cells too close to image edge\n",
    "profiles = profiles.filter(\n",
    "    (pl.col(\"Nuclei_AreaShape_Center_X\") > 50) & (pl.col(\"Nuclei_AreaShape_Center_X\") < 1030) & (pl.col(\"Nuclei_AreaShape_Center_Y\") > 50) & (pl.col(\"Nuclei_AreaShape_Center_Y\") < 1030)\n",
    ")\n",
    "profiles.shape"
   ]
  },
  {
   "cell_type": "code",
   "execution_count": 6,
   "metadata": {},
   "outputs": [],
   "source": [
    "# Calculate median and mad of gfp intensity for each allele\n",
    "medians = profiles.group_by([\"Metadata_Plate\", \"Metadata_well_position\"]).agg(\n",
    "    pl.col(\"Cells_Intensity_MedianIntensity_GFP\").median().alias(\"WellIntensityMedian\")\n",
    ")\n",
    "\n",
    "profiles = profiles.join(medians, on=[\"Metadata_Plate\", \"Metadata_well_position\"])\n",
    "\n",
    "profiles = profiles.with_columns(\n",
    "    (pl.col(\"Cells_Intensity_MedianIntensity_GFP\") - pl.col(\"WellIntensityMedian\")).abs().alias(\"Abs_dev\")\n",
    ")\n",
    "mad = profiles.group_by([\"Metadata_Plate\", \"Metadata_well_position\"]).agg(\n",
    "    pl.col(\"Abs_dev\").median().alias(\"Intensity_MAD\")\n",
    ")\n",
    "profiles = profiles.join(mad, on=[\"Metadata_Plate\", \"Metadata_well_position\"])\n",
    "\n",
    "# Threshold is 5X\n",
    "profiles = profiles.with_columns(\n",
    "    (pl.col(\"WellIntensityMedian\") + 5*pl.col(\"Intensity_MAD\")).alias(\"Intensity_upper_threshold\"),\n",
    "    (pl.col(\"WellIntensityMedian\") - 5*pl.col(\"Intensity_MAD\")).alias(\"Intensity_lower_threshold\")\n",
    ")"
   ]
  },
  {
   "cell_type": "code",
   "execution_count": 7,
   "metadata": {},
   "outputs": [
    {
     "data": {
      "text/plain": [
       "(1037703, 21)"
      ]
     },
     "execution_count": 7,
     "metadata": {},
     "output_type": "execute_result"
    }
   ],
   "source": [
    "# Filter by intensity MAD\n",
    "profiles = profiles.filter(\n",
    "    pl.col(\"Cells_Intensity_MedianIntensity_GFP\") <= pl.col(\"Intensity_upper_threshold\")\n",
    ").filter(\n",
    "    pl.col(\"Cells_Intensity_MedianIntensity_GFP\") >= pl.col(\"Intensity_lower_threshold\")\n",
    ")\n",
    "profiles.shape"
   ]
  },
  {
   "cell_type": "code",
   "execution_count": 8,
   "metadata": {},
   "outputs": [
    {
     "data": {
      "text/plain": [
       "(899375, 21)"
      ]
     },
     "execution_count": 8,
     "metadata": {},
     "output_type": "execute_result"
    }
   ],
   "source": [
    "# Filter out allele set 5 (mismatched metadata)\n",
    "profiles = profiles.filter(pl.col(\"Metadata_plate_map_name\") != \"B7A2R1_P1\")\n",
    "profiles.shape"
   ]
  },
  {
   "cell_type": "code",
   "execution_count": 9,
   "metadata": {},
   "outputs": [
    {
     "data": {
      "text/plain": [
       "(869914, 21)"
      ]
     },
     "execution_count": 9,
     "metadata": {},
     "output_type": "execute_result"
    }
   ],
   "source": [
    "# Filter out alleles with fewer than 250 cells\n",
    "keep_alleles = profiles.group_by(\"Metadata_gene_allele\").count().filter(pl.col(\"count\") >= 250).select(\"Metadata_gene_allele\").to_series().to_list()\n",
    "profiles = profiles.filter(pl.col(\"Metadata_gene_allele\").is_in(keep_alleles))\n",
    "profiles.shape"
   ]
  }
 ],
 "metadata": {
  "kernelspec": {
   "display_name": "cytoself",
   "language": "python",
   "name": "python3"
  },
  "language_info": {
   "codemirror_mode": {
    "name": "ipython",
    "version": 3
   },
   "file_extension": ".py",
   "mimetype": "text/x-python",
   "name": "python",
   "nbconvert_exporter": "python",
   "pygments_lexer": "ipython3",
   "version": "3.9.21"
  }
 },
 "nbformat": 4,
 "nbformat_minor": 2
}
